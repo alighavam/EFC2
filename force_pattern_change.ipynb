{
 "cells": [
  {
   "cell_type": "code",
   "execution_count": 1,
   "id": "c8e9944b",
   "metadata": {},
   "outputs": [],
   "source": [
    "import pandas as pd\n",
    "import numpy as np\n",
    "import matplotlib.pyplot as plt\n",
    "import seaborn as sns\n",
    "import matplotlib.colors as mcolors\n",
    "from scipy.stats import pearsonr\n",
    "from scipy.stats import ttest_ind\n",
    "from scipy.stats import ttest_rel"
   ]
  },
  {
   "cell_type": "code",
   "execution_count": null,
   "id": "ec75beda",
   "metadata": {},
   "outputs": [],
   "source": [
    "D = pd.read_csv('./analysis/efc2_all.csv')\n",
    "\n",
    "force1 = []\n",
    "force2 = []\n",
    "force3 = []\n",
    "force4 = []\n",
    "force5 = []\n",
    "\n",
    "mov = pd.read_pickle('./analysis/efc2_100_mov.pkl')\n",
    "\n",
    "sn_list = D.sn.unique()\n",
    "\n",
    "sn = 100\n",
    "df = D[D.sn == sn]\n",
    "for day in [1,2,3,4,5]:\n",
    "    df_day = df[df.day == day]\n",
    "    for BN, TN in zip(df_day.BN, df_day.TN):\n",
    "        if df_day.loc[(df_day.BN == BN) & (df_day.TN == TN), 'trial_correct'].values[0] == 0:\n",
    "            continue\n",
    "        row = (mov.day == day) & (mov.BN == BN) & (mov.TN == TN)\n",
    "        trial_mov = mov.loc[row, 'mov'].values[0]\n",
    "        states = trial_mov[:,0]\n",
    "        # WAIT_EXEC = 3\n",
    "        forces = trial_mov[states==3.0, -5:]\n",
    "\n",
    "        # the hold duration is the last 600ms:\n",
    "        \n",
    "\n"
   ]
  }
 ],
 "metadata": {
  "kernelspec": {
   "display_name": "Python 3",
   "language": "python",
   "name": "python3"
  },
  "language_info": {
   "codemirror_mode": {
    "name": "ipython",
    "version": 3
   },
   "file_extension": ".py",
   "mimetype": "text/x-python",
   "name": "python",
   "nbconvert_exporter": "python",
   "pygments_lexer": "ipython3",
   "version": "3.11.9"
  }
 },
 "nbformat": 4,
 "nbformat_minor": 5
}
