{
 "cells": [
  {
   "cell_type": "code",
   "execution_count": 9,
   "id": "ab704b64",
   "metadata": {},
   "outputs": [
    {
     "name": "stderr",
     "output_type": "stream",
     "text": [
      "156223.10s - pydevd: Sending message related to process being replaced timed-out after 5 seconds\n"
     ]
    },
    {
     "name": "stdout",
     "output_type": "stream",
     "text": [
      "Requirement already satisfied: pandas in ./.conda/lib/python3.11/site-packages (2.2.2)\n",
      "Requirement already satisfied: numpy in ./.conda/lib/python3.11/site-packages (2.1.1)\n",
      "Requirement already satisfied: matplotlib in ./.conda/lib/python3.11/site-packages (3.9.2)\n",
      "Requirement already satisfied: seaborn in ./.conda/lib/python3.11/site-packages (0.13.2)\n",
      "Requirement already satisfied: scipy in ./.conda/lib/python3.11/site-packages (1.14.1)\n",
      "Requirement already satisfied: statsmodels in ./.conda/lib/python3.11/site-packages (0.14.3)\n",
      "Requirement already satisfied: python-dateutil>=2.8.2 in ./.conda/lib/python3.11/site-packages (from pandas) (2.9.0)\n",
      "Requirement already satisfied: pytz>=2020.1 in ./.conda/lib/python3.11/site-packages (from pandas) (2024.1)\n",
      "Requirement already satisfied: tzdata>=2022.7 in ./.conda/lib/python3.11/site-packages (from pandas) (2024.1)\n",
      "Requirement already satisfied: contourpy>=1.0.1 in ./.conda/lib/python3.11/site-packages (from matplotlib) (1.3.0)\n",
      "Requirement already satisfied: cycler>=0.10 in ./.conda/lib/python3.11/site-packages (from matplotlib) (0.12.1)\n",
      "Requirement already satisfied: fonttools>=4.22.0 in ./.conda/lib/python3.11/site-packages (from matplotlib) (4.53.1)\n",
      "Requirement already satisfied: kiwisolver>=1.3.1 in ./.conda/lib/python3.11/site-packages (from matplotlib) (1.4.7)\n",
      "Requirement already satisfied: packaging>=20.0 in ./.conda/lib/python3.11/site-packages (from matplotlib) (24.1)\n",
      "Requirement already satisfied: pillow>=8 in ./.conda/lib/python3.11/site-packages (from matplotlib) (10.4.0)\n",
      "Requirement already satisfied: pyparsing>=2.3.1 in ./.conda/lib/python3.11/site-packages (from matplotlib) (3.1.4)\n",
      "Requirement already satisfied: patsy>=0.5.6 in ./.conda/lib/python3.11/site-packages (from statsmodels) (0.5.6)\n",
      "Requirement already satisfied: six in ./.conda/lib/python3.11/site-packages (from patsy>=0.5.6->statsmodels) (1.16.0)\n"
     ]
    }
   ],
   "source": [
    "!pip install pandas numpy matplotlib seaborn scipy statsmodels"
   ]
  },
  {
   "cell_type": "code",
   "execution_count": 10,
   "id": "c8e9944b",
   "metadata": {},
   "outputs": [],
   "source": [
    "import pandas as pd\n",
    "import numpy as np\n",
    "import matplotlib.pyplot as plt\n",
    "import seaborn as sns\n",
    "import matplotlib.colors as mcolors\n",
    "from scipy.stats import pearsonr\n",
    "from scipy.stats import ttest_ind\n",
    "from scipy.stats import ttest_rel\n",
    "from scipy.stats import ttest_1samp\n",
    "from statsmodels.stats.anova import AnovaRM"
   ]
  },
  {
   "cell_type": "markdown",
   "id": "938601b3",
   "metadata": {},
   "source": [
    "## preparing the forces"
   ]
  },
  {
   "cell_type": "code",
   "execution_count": 11,
   "id": "ec75beda",
   "metadata": {},
   "outputs": [],
   "source": [
    "D = pd.read_csv('./analysis/efc2_all.csv')\n",
    "fs = 500\n",
    "WAIT_EXEC = 3.0\n",
    "HOLD_DUR = 0.6\n",
    "sn_list = D.sn.unique()\n",
    "\n",
    "\n",
    "force1 = []\n",
    "force2 = []\n",
    "force3 = []\n",
    "force4 = []\n",
    "force5 = []\n",
    "\n",
    "fGain = [1.0, 1.0, 1.0, 1.5, 1.5]\n",
    "for sn in sn_list:\n",
    "    df = D[D.sn == sn]\n",
    "    mov = pd.read_pickle(f'./analysis/efc2_{sn}_mov.pkl')\n",
    "    for day in [1,2,3,4,5]:\n",
    "        df_day = df[df.day == day]\n",
    "        for BN, TN in zip(df_day.BN, df_day.TN):\n",
    "            if df_day.loc[(df_day.BN == BN) & (df_day.TN == TN), 'trial_correct'].values[0] == 0:\n",
    "                force1.append(0)\n",
    "                force2.append(0)\n",
    "                force3.append(0)\n",
    "                force4.append(0)\n",
    "                force5.append(0)\n",
    "                continue\n",
    "\n",
    "            row = (mov.day == day) & (mov.BN == BN) & (mov.TN == TN)\n",
    "            trial_mov = mov.loc[row, 'mov'].values[0]\n",
    "            states = trial_mov[:,0]\n",
    "            forces = trial_mov[states==WAIT_EXEC, -5:] * fGain\n",
    "\n",
    "            # the hold duration is the last 600ms:\n",
    "            hold_force = np.mean(forces[-int(HOLD_DUR*fs):, :], axis=0)\n",
    "\n",
    "            force1.append(hold_force[0])\n",
    "            force2.append(hold_force[1])\n",
    "            force3.append(hold_force[2])\n",
    "            force4.append(hold_force[3])\n",
    "            force5.append(hold_force[4])\n",
    "\n",
    "# add the forces to the D:\n",
    "D['force1'] = force1\n",
    "D['force2'] = force2\n",
    "D['force3'] = force3\n",
    "D['force4'] = force4\n",
    "D['force5'] = force5\n",
    "\n",
    "# save D:\n",
    "D.to_csv('./analysis/efc2_all.csv', index=False)"
   ]
  },
  {
   "cell_type": "markdown",
   "id": "866c69d6",
   "metadata": {},
   "source": [
    "## Comparing trained force patterns before and after learning"
   ]
  },
  {
   "cell_type": "code",
   "execution_count": 21,
   "id": "283f84fe",
   "metadata": {},
   "outputs": [
    {
     "name": "stdout",
     "output_type": "stream",
     "text": [
      "============================ Chord 22911:\n",
      "                   Anova\n",
      "===========================================\n",
      "             F Value  Num DF  Den DF Pr > F\n",
      "-------------------------------------------\n",
      "day            0.7965 1.0000  6.0000 0.4065\n",
      "fingers     1123.8440 4.0000 24.0000 0.0000\n",
      "day:fingers    4.0155 4.0000 24.0000 0.0124\n",
      "===========================================\n",
      "\n",
      "     f1: -0.24N, t=-2.19, p=0.072\n",
      "     f2: 0.26N, t=2.26, p=0.064\n",
      "     f3: 0.07N, t=0.82, p=0.443\n",
      "     f4: 0.19N, t=2.10, p=0.081\n",
      "     f5: -0.11N, t=-1.09, p=0.318\n"
     ]
    },
    {
     "data": {
      "image/png": "[encoded data removed]",
      "text/plain": [
       "<Figure size 300x100 with 1 Axes>"
      ]
     },
     "metadata": {},
     "output_type": "display_data"
    },
    {
     "name": "stdout",
     "output_type": "stream",
     "text": [
      "============================ Chord 29212:\n",
      "                  Anova\n",
      "==========================================\n",
      "            F Value  Num DF  Den DF Pr > F\n",
      "------------------------------------------\n",
      "day           4.0482 1.0000  6.0000 0.0909\n",
      "fingers     882.6377 4.0000 24.0000 0.0000\n",
      "day:fingers   2.9309 4.0000 24.0000 0.0417\n",
      "==========================================\n",
      "\n",
      "     f1: -0.07N, t=-0.51, p=0.628\n",
      "     f2: 0.38N, t=5.12, p=0.002\n",
      "     f3: -0.10N, t=-0.95, p=0.378\n",
      "     f4: 0.22N, t=1.53, p=0.176\n",
      "     f5: 0.00N, t=0.04, p=0.970\n"
     ]
    },
    {
     "data": {
      "image/png": "[encoded data removed]",
      "text/plain": [
       "<Figure size 300x100 with 1 Axes>"
      ]
     },
     "metadata": {},
     "output_type": "display_data"
    },
    {
     "name": "stdout",
     "output_type": "stream",
     "text": [
      "============================ Chord 91211:\n",
      "                  Anova\n",
      "==========================================\n",
      "            F Value  Num DF  Den DF Pr > F\n",
      "------------------------------------------\n",
      "day           0.2437 1.0000  6.0000 0.6391\n",
      "fingers     674.9905 4.0000 24.0000 0.0000\n",
      "day:fingers   1.2984 4.0000 24.0000 0.2987\n",
      "==========================================\n",
      "\n",
      "     f1: 0.13N, t=1.52, p=0.180\n",
      "     f2: -0.00N, t=-0.03, p=0.980\n",
      "     f3: -0.13N, t=-0.83, p=0.439\n",
      "     f4: 0.21N, t=4.23, p=0.005\n",
      "     f5: -0.06N, t=-0.37, p=0.725\n"
     ]
    },
    {
     "data": {
      "image/png": "[encoded data removed]",
      "text/plain": [
       "<Figure size 300x100 with 1 Axes>"
      ]
     },
     "metadata": {},
     "output_type": "display_data"
    },
    {
     "name": "stdout",
     "output_type": "stream",
     "text": [
      "============================ Chord 92122:\n",
      "                  Anova\n",
      "==========================================\n",
      "            F Value  Num DF  Den DF Pr > F\n",
      "------------------------------------------\n",
      "day           0.0012 1.0000  6.0000 0.9732\n",
      "fingers     758.5408 4.0000 24.0000 0.0000\n",
      "day:fingers   0.3863 4.0000 24.0000 0.8162\n",
      "==========================================\n",
      "\n",
      "     f1: -0.01N, t=-0.12, p=0.912\n",
      "     f2: -0.05N, t=-0.20, p=0.851\n",
      "     f3: 0.15N, t=0.99, p=0.361\n",
      "     f4: -0.11N, t=-0.79, p=0.458\n",
      "     f5: 0.03N, t=0.34, p=0.747\n"
     ]
    },
    {
     "data": {
      "image/png": "[encoded data removed]",
      "text/plain": [
       "<Figure size 300x100 with 1 Axes>"
      ]
     },
     "metadata": {},
     "output_type": "display_data"
    },
    {
     "name": "stdout",
     "output_type": "stream",
     "text": [
      "============================ Chord 12129:\n",
      "                   Anova\n",
      "===========================================\n",
      "             F Value  Num DF  Den DF Pr > F\n",
      "-------------------------------------------\n",
      "day            0.0446 1.0000  6.0000 0.8397\n",
      "fingers     1235.0530 4.0000 24.0000 0.0000\n",
      "day:fingers    2.6463 4.0000 24.0000 0.0583\n",
      "===========================================\n",
      "\n",
      "     f1: 0.40N, t=2.97, p=0.025\n",
      "     f2: -0.17N, t=-0.71, p=0.504\n",
      "     f3: -0.04N, t=-0.26, p=0.803\n",
      "     f4: -0.16N, t=-1.05, p=0.336\n",
      "     f5: 0.06N, t=0.54, p=0.606\n"
     ]
    },
    {
     "data": {
      "image/png": "[encoded data removed]",
      "text/plain": [
       "<Figure size 300x100 with 1 Axes>"
      ]
     },
     "metadata": {},
     "output_type": "display_data"
    },
    {
     "name": "stdout",
     "output_type": "stream",
     "text": [
      "============================ Chord 12291:\n",
      "                   Anova\n",
      "===========================================\n",
      "             F Value  Num DF  Den DF Pr > F\n",
      "-------------------------------------------\n",
      "day           10.4430 1.0000  6.0000 0.0179\n",
      "fingers     1831.4773 4.0000 24.0000 0.0000\n",
      "day:fingers    1.7732 4.0000 24.0000 0.1672\n",
      "===========================================\n",
      "\n",
      "     f1: 0.56N, t=4.47, p=0.004\n",
      "     f2: 0.07N, t=0.30, p=0.778\n",
      "     f3: 0.22N, t=1.74, p=0.132\n",
      "     f4: 0.15N, t=1.88, p=0.110\n",
      "     f5: 0.19N, t=1.46, p=0.195\n"
     ]
    },
    {
     "data": {
      "image/png": "[encoded data removed]",
      "text/plain": [
       "<Figure size 300x100 with 1 Axes>"
      ]
     },
     "metadata": {},
     "output_type": "display_data"
    },
    {
     "name": "stdout",
     "output_type": "stream",
     "text": [
      "============================ Chord 19111:\n",
      "                  Anova\n",
      "==========================================\n",
      "            F Value  Num DF  Den DF Pr > F\n",
      "------------------------------------------\n",
      "day         170.2999 1.0000  6.0000 0.0000\n",
      "fingers     296.2451 4.0000 24.0000 0.0000\n",
      "day:fingers   0.6017 4.0000 24.0000 0.6651\n",
      "==========================================\n",
      "\n",
      "     f1: 0.42N, t=4.13, p=0.006\n",
      "     f2: 0.25N, t=2.56, p=0.043\n",
      "     f3: 0.07N, t=0.35, p=0.739\n",
      "     f4: 0.19N, t=1.40, p=0.210\n",
      "     f5: 0.16N, t=0.81, p=0.448\n"
     ]
    },
    {
     "data": {
      "image/png": "[encoded data removed]",
      "text/plain": [
       "<Figure size 300x100 with 1 Axes>"
      ]
     },
     "metadata": {},
     "output_type": "display_data"
    },
    {
     "name": "stdout",
     "output_type": "stream",
     "text": [
      "============================ Chord 21291:\n",
      "                   Anova\n",
      "===========================================\n",
      "             F Value  Num DF  Den DF Pr > F\n",
      "-------------------------------------------\n",
      "day            0.4340 1.0000  6.0000 0.5345\n",
      "fingers     1076.6699 4.0000 24.0000 0.0000\n",
      "day:fingers    1.1094 4.0000 24.0000 0.3750\n",
      "===========================================\n",
      "\n",
      "     f1: -0.12N, t=-0.73, p=0.490\n",
      "     f2: 0.05N, t=0.31, p=0.765\n",
      "     f3: -0.13N, t=-0.72, p=0.498\n",
      "     f4: 0.19N, t=3.49, p=0.013\n",
      "     f5: 0.19N, t=1.53, p=0.178\n"
     ]
    },
    {
     "data": {
      "image/png": "[encoded data removed]",
      "text/plain": [
       "<Figure size 300x100 with 1 Axes>"
      ]
     },
     "metadata": {},
     "output_type": "display_data"
    },
    {
     "name": "stdout",
     "output_type": "stream",
     "text": [
      "Unchanged chords:\n",
      "    avg f1: 0.02N\n",
      "    avg f2: 0.08N\n",
      "    avg f3: -0.03N\n",
      "    avg f4: 0.09N\n",
      "    avg f5: 0.02N\n",
      "    total avg: 0.04N\n",
      "Changed chords:\n",
      "    avg f1: 0.49N\n",
      "    avg f2: 0.16N\n",
      "    avg f3: 0.14N\n",
      "    avg f4: 0.17N\n",
      "    avg f5: 0.18N\n",
      "    total avg: 0.23N\n"
     ]
    }
   ],
   "source": [
    "D = pd.read_csv('./analysis/efc2_all.csv')\n",
    "D = D[D.trial_correct==1]\n",
    "\n",
    "# select trained and day 1 and 5:\n",
    "D = D[((D.day == 1) | (D.day == 5)) & (D.trained == 1)]\n",
    "D = D.groupby(['sn', 'day', 'chordID']).agg(\n",
    "    force1=('force1', 'mean'),\n",
    "    force2=('force2', 'mean'),\n",
    "    force3=('force3', 'mean'),\n",
    "    force4=('force4', 'mean'),\n",
    "    force5=('force5', 'mean')\n",
    ").reset_index()\n",
    "\n",
    "f1_change = []\n",
    "f2_change = []\n",
    "f3_change = []\n",
    "f4_change = []\n",
    "f5_change = []\n",
    "\n",
    "chords = D.chordID.unique()\n",
    "for chord in chords:\n",
    "    # day = D[D.chordID == chord].day.values\n",
    "    day1 = (D.chordID == chord) & (D.day == 1)\n",
    "    day5 = (D.chordID == chord) & (D.day == 5)\n",
    "\n",
    "    # anovaRM:\n",
    "    sn_tmp1 = D.loc[day1, 'sn'].values\n",
    "    day_tmp1 = D.loc[day1, 'day'].values\n",
    "    f1_tmp1 = D.loc[day1, 'force1'].values\n",
    "    f2_tmp1 = D.loc[day1, 'force2'].values\n",
    "    f3_tmp1 = D.loc[day1, 'force3'].values\n",
    "    f4_tmp1 = D.loc[day1, 'force4'].values\n",
    "    f5_tmp1 = D.loc[day1, 'force5'].values\n",
    "    sn_tmp1 = np.tile(sn_tmp1, 5)\n",
    "    day_tmp1 = np.tile(day_tmp1, 5)\n",
    "    f_tmp1 = np.concatenate((f1_tmp1, f2_tmp1, f3_tmp1, f4_tmp1, f5_tmp1), axis=0)\n",
    "    fingers_tmp1 = np.array([1, 2, 3, 4, 5])\n",
    "    fingers_tmp1 = np.repeat(fingers_tmp1, len(f1_tmp1))\n",
    "\n",
    "    sn_tmp2 = D.loc[day5, 'sn'].values\n",
    "    day_tmp2 = D.loc[day5, 'day'].values\n",
    "    f1_tmp2 = D.loc[day5, 'force1'].values\n",
    "    f2_tmp2 = D.loc[day5, 'force2'].values\n",
    "    f3_tmp2 = D.loc[day5, 'force3'].values\n",
    "    f4_tmp2 = D.loc[day5, 'force4'].values\n",
    "    f5_tmp2 = D.loc[day5, 'force5'].values\n",
    "    sn_tmp2 = np.tile(sn_tmp2, 5)\n",
    "    day_tmp2 = np.tile(day_tmp2, 5)\n",
    "    f_tmp2 = np.concatenate((f1_tmp2, f2_tmp2, f3_tmp2, f4_tmp2, f5_tmp2), axis=0)\n",
    "    fingers_tmp2 = np.array([1, 2, 3, 4, 5])\n",
    "    fingers_tmp2 = np.repeat(fingers_tmp2, len(f1_tmp2))\n",
    "\n",
    "    sn_tmp = np.concatenate((sn_tmp1, sn_tmp2), axis=0)\n",
    "    day_tmp = np.concatenate((day_tmp1, day_tmp2), axis=0)\n",
    "    f_tmp = np.concatenate((f_tmp1, f_tmp2), axis=0)\n",
    "    fingers_tmp = np.concatenate((fingers_tmp1, fingers_tmp2), axis=0)\n",
    "    df = pd.DataFrame({'sn': sn_tmp, 'day': day_tmp, 'force': f_tmp, 'fingers': fingers_tmp})\n",
    "    table = AnovaRM(data=df, depvar='force', subject='sn', within=['day','fingers'])\n",
    "    res = table.fit()\n",
    "    print(f'============================ Chord {chord}:')\n",
    "    print(res)\n",
    "\n",
    "    f1 = D.loc[day5, 'force1'].values - D.loc[day1, 'force1'].values\n",
    "    f2 = D.loc[day5, 'force2'].values - D.loc[day1, 'force2'].values\n",
    "    f3 = D.loc[day5, 'force3'].values - D.loc[day1, 'force3'].values\n",
    "    f4 = D.loc[day5, 'force4'].values - D.loc[day1, 'force4'].values\n",
    "    f5 = D.loc[day5, 'force5'].values - D.loc[day1, 'force5'].values\n",
    "    f1_change.append(f1.mean())\n",
    "    f2_change.append(f2.mean())\n",
    "    f3_change.append(f3.mean())\n",
    "    f4_change.append(f4.mean())\n",
    "    f5_change.append(f5.mean())\n",
    "    \n",
    "    # ttest:\n",
    "    t1, p1 = ttest_1samp(f1, 0)\n",
    "    t2, p2 = ttest_1samp(f2, 0)\n",
    "    t3, p3 = ttest_1samp(f3, 0)\n",
    "    t4, p4 = ttest_1samp(f4, 0)\n",
    "    t5, p5 = ttest_1samp(f5, 0)\n",
    "    print(f'     f1: {f1.mean():.2f}N, t={t1:.2f}, p={p1:.3f}')\n",
    "    print(f'     f2: {f2.mean():.2f}N, t={t2:.2f}, p={p2:.3f}')\n",
    "    print(f'     f3: {f3.mean():.2f}N, t={t3:.2f}, p={p3:.3f}')\n",
    "    print(f'     f4: {f4.mean():.2f}N, t={t4:.2f}, p={p4:.3f}')\n",
    "    print(f'     f5: {f5.mean():.2f}N, t={t5:.2f}, p={p5:.3f}')\n",
    "\n",
    "    forces = np.concatenate((f1, f2, f3, f4, f5), axis=0)\n",
    "    fingers = np.array([1, 2, 3, 4, 5])\n",
    "    fingers = np.repeat(fingers, len(f1))\n",
    "\n",
    "    fig, ax = plt.subplots(1, 1, figsize=(3, 1))\n",
    "    plt.axhline(y=0, color='r', linestyle='--', linewidth=1, alpha=0.5)\n",
    "    sns.boxplot(x=fingers, y=forces, ax=ax, width=0.4, fliersize=0, color='k', fill=False)\n",
    "    plt.ylim((-1, 1))\n",
    "    plt.title(f'Chord {chord}')\n",
    "    plt.show()\n",
    "\n",
    "f1_change = np.array(f1_change)\n",
    "f2_change = np.array(f2_change)\n",
    "f3_change = np.array(f3_change)\n",
    "f4_change = np.array(f4_change)\n",
    "f5_change = np.array(f5_change)\n",
    "# changed chprds:\n",
    "print('Unchanged chords:')\n",
    "print(f'    avg f1: {np.mean(f1_change[[0,1,2,3,4,7]]):.2f}N')\n",
    "print(f'    avg f2: {np.mean(f2_change[[0,1,2,3,4,7]]):.2f}N')\n",
    "print(f'    avg f3: {np.mean(f3_change[[0,1,2,3,4,7]]):.2f}N')\n",
    "print(f'    avg f4: {np.mean(f4_change[[0,1,2,3,4,7]]):.2f}N')\n",
    "print(f'    avg f5: {np.mean(f5_change[[0,1,2,3,4,7]]):.2f}N')\n",
    "print(f'    total avg: {np.mean(f1_change[[0,1,2,3,4,7]]/5 + f2_change[[0,1,2,3,4,7]]/5 + f3_change[[0,1,2,3,4,7]]/5 + f4_change[[0,1,2,3,4,7]]/5 + f5_change[[0,1,2,3,4,7]]/5):.2f}N')\n",
    "\n",
    "print('Changed chords:')\n",
    "print(f'    avg f1: {np.mean(f1_change[[5,6]]):.2f}N')\n",
    "print(f'    avg f2: {np.mean(f2_change[[5,6]]):.2f}N')\n",
    "print(f'    avg f3: {np.mean(f3_change[[5,6]]):.2f}N')\n",
    "print(f'    avg f4: {np.mean(f4_change[[5,6]]):.2f}N')\n",
    "print(f'    avg f5: {np.mean(f5_change[[5,6]]):.2f}N')\n",
    "print(f'    total avg: {np.mean(f1_change[[5,6]]/5 + f2_change[[5,6]]/5 + f3_change[[5,6]]/5 + f4_change[[5,6]]/5 + f5_change[[5,6]]/5):.2f}N')\n"
   ]
  }
 ],
 "metadata": {
  "kernelspec": {
   "display_name": "Python 3",
   "language": "python",
   "name": "python3"
  },
  "language_info": {
   "codemirror_mode": {
    "name": "ipython",
    "version": 3
   },
   "file_extension": ".py",
   "mimetype": "text/x-python",
   "name": "python",
   "nbconvert_exporter": "python",
   "pygments_lexer": "ipython3",
   "version": "3.11.11"
  }
 },
 "nbformat": 4,
 "nbformat_minor": 5
}
