{
 "cells": [
  {
   "cell_type": "markdown",
   "metadata": {},
   "source": [
    "Prep subject data"
   ]
  },
  {
   "cell_type": "code",
   "execution_count": 15,
   "metadata": {},
   "outputs": [
    {
     "name": "stdout",
     "output_type": "stream",
     "text": [
      "=============== day4 ===============\n",
      "Processing block 1\n",
      "Processing trial 1\n",
      "Processing trial 2\n",
      "Processing trial 3\n",
      "Processing trial 4\n",
      "Processing trial 5\n",
      "Processing trial 6\n",
      "Processing trial 7\n",
      "Processing trial 8\n",
      "Processing trial 9\n",
      "Processing trial 10\n",
      "Processing trial 11\n",
      "Processing trial 12\n",
      "Processing trial 13\n",
      "Processing trial 14\n",
      "Processing trial 15\n",
      "Processing trial 16\n",
      "Processing trial 17\n",
      "Processing trial 18\n",
      "Processing trial 19\n",
      "Processing trial 20\n",
      "Processing trial 21\n",
      "Processing trial 22\n",
      "Processing trial 23\n",
      "Processing trial 24\n",
      "Processing trial 25\n",
      "Processing trial 26\n",
      "Processing trial 27\n",
      "Processing trial 28\n",
      "Processing trial 29\n",
      "Processing trial 30\n",
      "Processing trial 31\n",
      "Processing trial 32\n",
      "Processing trial 33\n",
      "Processing trial 34\n",
      "Processing trial 35\n",
      "Processing trial 36\n",
      "Processing trial 37\n",
      "Processing trial 38\n",
      "Processing trial 39\n",
      "Processing trial 40\n",
      "Processing trial 41\n",
      "Processing trial 42\n",
      "Processing trial 43\n",
      "Processing trial 44\n",
      "Processing trial 45\n",
      "Processing trial 46\n",
      "Processing trial 47\n",
      "Processing trial 48\n",
      "Processing trial 49\n",
      "Processing trial 50\n",
      "Processing block 2\n"
     ]
    },
    {
     "ename": "KeyboardInterrupt",
     "evalue": "",
     "output_type": "error",
     "traceback": [
      "\u001b[0;31m---------------------------------------------------------------------------\u001b[0m",
      "\u001b[0;31mKeyboardInterrupt\u001b[0m                         Traceback (most recent call last)",
      "Cell \u001b[0;32mIn[15], line 8\u001b[0m\n\u001b[1;32m      6\u001b[0m \u001b[38;5;28;01mif\u001b[39;00m i \u001b[38;5;129;01min\u001b[39;00m exlude_subj:\n\u001b[1;32m      7\u001b[0m     \u001b[38;5;28;01mcontinue\u001b[39;00m\n\u001b[0;32m----> 8\u001b[0m \u001b[43mefc2\u001b[49m\u001b[38;5;241;43m.\u001b[39;49m\u001b[43msubject_routine\u001b[49m\u001b[43m(\u001b[49m\u001b[43mi\u001b[49m\u001b[43m)\u001b[49m\n",
      "File \u001b[0;32m~/Desktop/Projects/EFC2/EFC2_routine.py:56\u001b[0m, in \u001b[0;36msubject_routine\u001b[0;34m(subject, smoothing_window, fs)\u001b[0m\n\u001b[1;32m     54\u001b[0m     \u001b[38;5;28mprint\u001b[39m(\u001b[38;5;124mf\u001b[39m\u001b[38;5;124m'\u001b[39m\u001b[38;5;124mProcessing block \u001b[39m\u001b[38;5;132;01m{\u001b[39;00mdat[\u001b[38;5;124m\"\u001b[39m\u001b[38;5;124mBN\u001b[39m\u001b[38;5;124m\"\u001b[39m][i]\u001b[38;5;132;01m}\u001b[39;00m\u001b[38;5;124m'\u001b[39m)\n\u001b[1;32m     55\u001b[0m     \u001b[38;5;66;03m# load the .mov file:\u001b[39;00m\n\u001b[0;32m---> 56\u001b[0m     mov \u001b[38;5;241m=\u001b[39m \u001b[43mmovload\u001b[49m\u001b[43m(\u001b[49m\u001b[43mos\u001b[49m\u001b[38;5;241;43m.\u001b[39;49m\u001b[43mpath\u001b[49m\u001b[38;5;241;43m.\u001b[39;49m\u001b[43mjoin\u001b[49m\u001b[43m(\u001b[49m\u001b[43msub_dir\u001b[49m\u001b[43m,\u001b[49m\u001b[43md\u001b[49m\u001b[43m,\u001b[49m\u001b[38;5;124;43mf\u001b[39;49m\u001b[38;5;124;43m'\u001b[39;49m\u001b[38;5;124;43mefc2_\u001b[39;49m\u001b[38;5;132;43;01m{\u001b[39;49;00m\u001b[43msubject\u001b[49m\u001b[38;5;132;43;01m}\u001b[39;49;00m\u001b[38;5;124;43m_\u001b[39;49m\u001b[38;5;132;43;01m{\u001b[39;49;00m\u001b[43mdat\u001b[49m\u001b[43m[\u001b[49m\u001b[38;5;124;43m\"\u001b[39;49m\u001b[38;5;124;43mBN\u001b[39;49m\u001b[38;5;124;43m\"\u001b[39;49m\u001b[43m]\u001b[49m\u001b[43m[\u001b[49m\u001b[43mi\u001b[49m\u001b[43m]\u001b[49m\u001b[38;5;132;43;01m:\u001b[39;49;00m\u001b[38;5;124;43m02d\u001b[39;49m\u001b[38;5;132;43;01m}\u001b[39;49;00m\u001b[38;5;124;43m.mov\u001b[39;49m\u001b[38;5;124;43m'\u001b[39;49m\u001b[43m)\u001b[49m\u001b[43m)\u001b[49m\n\u001b[1;32m     57\u001b[0m     oldblock \u001b[38;5;241m=\u001b[39m dat[\u001b[38;5;124m'\u001b[39m\u001b[38;5;124mBN\u001b[39m\u001b[38;5;124m'\u001b[39m][i]\n\u001b[1;32m     58\u001b[0m \u001b[38;5;28mprint\u001b[39m(\u001b[38;5;124mf\u001b[39m\u001b[38;5;124m'\u001b[39m\u001b[38;5;124mProcessing trial \u001b[39m\u001b[38;5;132;01m{\u001b[39;00mdat[\u001b[38;5;124m\"\u001b[39m\u001b[38;5;124mTN\u001b[39m\u001b[38;5;124m\"\u001b[39m][i]\u001b[38;5;132;01m}\u001b[39;00m\u001b[38;5;124m'\u001b[39m)\n",
      "File \u001b[0;32m~/Desktop/Projects/EFC2/utils/movload.py:26\u001b[0m, in \u001b[0;36mmovload\u001b[0;34m(fname)\u001b[0m\n\u001b[1;32m     24\u001b[0m         a \u001b[38;5;241m=\u001b[39m np\u001b[38;5;241m.\u001b[39marray([\u001b[38;5;28mfloat\u001b[39m(x) \u001b[38;5;28;01mfor\u001b[39;00m x \u001b[38;5;129;01min\u001b[39;00m lineData], ndmin\u001b[38;5;241m=\u001b[39m\u001b[38;5;241m2\u001b[39m)\n\u001b[1;32m     25\u001b[0m         \u001b[38;5;66;03m# print(a)\u001b[39;00m\n\u001b[0;32m---> 26\u001b[0m         A[trial\u001b[38;5;241m-\u001b[39m\u001b[38;5;241m1\u001b[39m] \u001b[38;5;241m=\u001b[39m \u001b[43mnp\u001b[49m\u001b[38;5;241;43m.\u001b[39;49m\u001b[43mvstack\u001b[49m\u001b[43m(\u001b[49m\u001b[43m(\u001b[49m\u001b[43mA\u001b[49m\u001b[43m[\u001b[49m\u001b[43mtrial\u001b[49m\u001b[38;5;241;43m-\u001b[39;49m\u001b[38;5;241;43m1\u001b[39;49m\u001b[43m]\u001b[49m\u001b[43m,\u001b[49m\u001b[43ma\u001b[49m\u001b[43m)\u001b[49m\u001b[43m)\u001b[49m\n\u001b[1;32m     27\u001b[0m         \u001b[38;5;66;03m# A[trial-1].extend(a)\u001b[39;00m\n\u001b[1;32m     29\u001b[0m fid\u001b[38;5;241m.\u001b[39mclose()\n",
      "File \u001b[0;32m~/Desktop/Projects/EFC2/.conda/lib/python3.11/site-packages/numpy/_core/shape_base.py:291\u001b[0m, in \u001b[0;36mvstack\u001b[0;34m(tup, dtype, casting)\u001b[0m\n\u001b[1;32m    289\u001b[0m \u001b[38;5;28;01mif\u001b[39;00m \u001b[38;5;129;01mnot\u001b[39;00m \u001b[38;5;28misinstance\u001b[39m(arrs, \u001b[38;5;28mtuple\u001b[39m):\n\u001b[1;32m    290\u001b[0m     arrs \u001b[38;5;241m=\u001b[39m (arrs,)\n\u001b[0;32m--> 291\u001b[0m \u001b[38;5;28;01mreturn\u001b[39;00m \u001b[43m_nx\u001b[49m\u001b[38;5;241;43m.\u001b[39;49m\u001b[43mconcatenate\u001b[49m\u001b[43m(\u001b[49m\u001b[43marrs\u001b[49m\u001b[43m,\u001b[49m\u001b[43m \u001b[49m\u001b[38;5;241;43m0\u001b[39;49m\u001b[43m,\u001b[49m\u001b[43m \u001b[49m\u001b[43mdtype\u001b[49m\u001b[38;5;241;43m=\u001b[39;49m\u001b[43mdtype\u001b[49m\u001b[43m,\u001b[49m\u001b[43m \u001b[49m\u001b[43mcasting\u001b[49m\u001b[38;5;241;43m=\u001b[39;49m\u001b[43mcasting\u001b[49m\u001b[43m)\u001b[49m\n",
      "\u001b[0;31mKeyboardInterrupt\u001b[0m: "
     ]
    }
   ],
   "source": [
    "import EFC2_routine as efc2\n",
    "\n",
    "exlude_subj = [105]\n",
    "\n",
    "for i in range(100, 114):\n",
    "    if i in exlude_subj:\n",
    "        continue\n",
    "    efc2.subject_routine(i)"
   ]
  }
 ],
 "metadata": {
  "kernelspec": {
   "display_name": "Python 3",
   "language": "python",
   "name": "python3"
  },
  "language_info": {
   "codemirror_mode": {
    "name": "ipython",
    "version": 3
   },
   "file_extension": ".py",
   "mimetype": "text/x-python",
   "name": "python",
   "nbconvert_exporter": "python",
   "pygments_lexer": "ipython3",
   "version": "3.11.9"
  }
 },
 "nbformat": 4,
 "nbformat_minor": 2
}
