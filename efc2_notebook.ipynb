{
 "cells": [
  {
   "cell_type": "markdown",
   "metadata": {},
   "source": [
    "Prep subject data"
   ]
  },
  {
   "cell_type": "code",
   "execution_count": null,
   "metadata": {},
   "outputs": [],
   "source": [
    "import efc2_analyze as efc2\n",
    "\n",
    "efc2.subject_routine([i for i in range(100,114) if i != 105])"
   ]
  },
  {
   "cell_type": "code",
   "execution_count": 3,
   "metadata": {},
   "outputs": [
    {
     "name": "stdout",
     "output_type": "stream",
     "text": [
      "The autoreload extension is already loaded. To reload it, use:\n",
      "  %reload_ext autoreload\n",
      "Processing efc2_100.csv\n",
      "Processing efc2_101.csv\n",
      "Processing efc2_102.csv\n",
      "Processing efc2_103.csv\n",
      "Processing efc2_104.csv\n",
      "Processing efc2_106.csv\n",
      "Processing efc2_107.csv\n",
      "Processing efc2_108.csv\n",
      "Processing efc2_109.csv\n",
      "Processing efc2_110.csv\n",
      "Processing efc2_111.csv\n",
      "Processing efc2_112.csv\n",
      "Processing efc2_113.csv\n"
     ]
    }
   ],
   "source": [
    "# Load autoreload\n",
    "%load_ext autoreload\n",
    "%autoreload 2\n",
    "\n",
    "import efc2_analyze as efc2\n",
    "\n",
    "efc2.make_all_dataframe()"
   ]
  }
 ],
 "metadata": {
  "kernelspec": {
   "display_name": "Python 3",
   "language": "python",
   "name": "python3"
  },
  "language_info": {
   "codemirror_mode": {
    "name": "ipython",
    "version": 3
   },
   "file_extension": ".py",
   "mimetype": "text/x-python",
   "name": "python",
   "nbconvert_exporter": "python",
   "pygments_lexer": "ipython3",
   "version": "3.11.9"
  }
 },
 "nbformat": 4,
 "nbformat_minor": 2
}
